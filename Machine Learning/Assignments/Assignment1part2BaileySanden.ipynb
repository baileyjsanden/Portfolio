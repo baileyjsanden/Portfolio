{
 "cells": [
  {
   "cell_type": "code",
   "execution_count": 71,
   "metadata": {},
   "outputs": [],
   "source": [
    "import pandas as pd"
   ]
  },
  {
   "cell_type": "code",
   "execution_count": 72,
   "metadata": {},
   "outputs": [],
   "source": [
    "echo = pd.read_csv('echocardiogram.csv')"
   ]
  },
  {
   "cell_type": "code",
   "execution_count": 82,
   "metadata": {},
   "outputs": [
    {
     "name": "stdout",
     "output_type": "stream",
     "text": [
      "# of columns:  13\n",
      "# of rows:  130\n"
     ]
    }
   ],
   "source": [
    "print(\"# of columns: \", echo.shape[1])\n",
    "print(\"# of rows: \", echo.shape[0]-1)"
   ]
  },
  {
   "cell_type": "code",
   "execution_count": 74,
   "metadata": {},
   "outputs": [
    {
     "name": "stdout",
     "output_type": "stream",
     "text": [
      "                                 column_name  percent_missing\n",
      "survival                            survival         0.763359\n",
      "still-alive                      still-alive         0.000000\n",
      "age-at-heart-attack      age-at-heart-attack         3.816794\n",
      "pericardial-effusion    pericardial-effusion         0.000000\n",
      "fractional-shortening  fractional-shortening         5.343511\n",
      "epss                                    epss        10.687023\n",
      "lvdd                                    lvdd         7.633588\n",
      "wall-motion-score          wall-motion-score         2.290076\n",
      "wall-motion-index          wall-motion-index         0.763359\n",
      "mult                                    mult         2.290076\n",
      "name                                    name         0.000000\n",
      "group                                  group        16.793893\n",
      "alive-at-1                        alive-at-1        43.511450\n"
     ]
    }
   ],
   "source": [
    "##Calculate percent missing \n",
    "## Edited CSV file to replace question marks with empty values\n",
    "percent_missing = echo.isnull().sum() * 100 / len(echo)\n",
    "missing_value_df = pd.DataFrame({'column_name': echo.columns,\n",
    "                                 'percent_missing': percent_missing})\n",
    "print(missing_value_df)"
   ]
  },
  {
   "cell_type": "code",
   "execution_count": 83,
   "metadata": {},
   "outputs": [
    {
     "name": "stdout",
     "output_type": "stream",
     "text": [
      "mean\n",
      " survival                 22.182923\n",
      "still-alive               0.328244\n",
      "age-at-heart-attack      62.813722\n",
      "pericardial-effusion      0.183206\n",
      "fractional-shortening     0.216734\n",
      "epss                     12.164769\n",
      "lvdd                      4.763157\n",
      "wall-motion-score        14.438125\n",
      "wall-motion-index         1.378000\n",
      "mult                      0.776719\n",
      "group                     1.779817\n",
      "alive-at-1                0.324324\n",
      "dtype: float64\n",
      "Median\n",
      " survival                 23.500\n",
      "still-alive               0.000\n",
      "age-at-heart-attack      62.000\n",
      "pericardial-effusion      0.000\n",
      "fractional-shortening     0.205\n",
      "epss                     11.000\n",
      "lvdd                      4.650\n",
      "wall-motion-score        14.000\n",
      "wall-motion-index         1.216\n",
      "mult                      0.786\n",
      "group                     2.000\n",
      "alive-at-1                0.000\n",
      "dtype: float64\n",
      "Standard Dev\n",
      " survival                 15.858267\n",
      "still-alive               0.471377\n",
      "age-at-heart-attack       8.342110\n",
      "pericardial-effusion      0.388320\n",
      "fractional-shortening     0.107513\n",
      "epss                      7.370159\n",
      "lvdd                      0.810013\n",
      "wall-motion-score         5.018566\n",
      "wall-motion-index         0.451850\n",
      "mult                      0.199078\n",
      "group                     0.416284\n",
      "alive-at-1                0.471317\n",
      "dtype: float64\n",
      "Variance\n",
      " survival                 251.484639\n",
      "still-alive                0.222196\n",
      "age-at-heart-attack       69.590798\n",
      "pericardial-effusion       0.150793\n",
      "fractional-shortening      0.011559\n",
      "epss                      54.319251\n",
      "lvdd                       0.656121\n",
      "wall-motion-score         25.186009\n",
      "wall-motion-index          0.204168\n",
      "mult                       0.039632\n",
      "group                      0.173293\n",
      "alive-at-1                 0.222140\n",
      "dtype: float64\n",
      "Min\n",
      " survival                 0.03\n",
      "still-alive                 0\n",
      "age-at-heart-attack      35.0\n",
      "pericardial-effusion        0\n",
      "fractional-shortening    0.01\n",
      "epss                      0.0\n",
      "lvdd                     2.32\n",
      "wall-motion-score         2.0\n",
      "wall-motion-index         1.0\n",
      "mult                     0.14\n",
      "name                     name\n",
      "group                     1.0\n",
      "alive-at-1                0.0\n",
      "dtype: object\n",
      "Max\n",
      " survival                 57.0\n",
      "still-alive                 1\n",
      "age-at-heart-attack      86.0\n",
      "pericardial-effusion        1\n",
      "fractional-shortening    0.61\n",
      "epss                     40.0\n",
      "lvdd                     6.78\n",
      "wall-motion-score        39.0\n",
      "wall-motion-index         3.0\n",
      "mult                      2.0\n",
      "name                     name\n",
      "group                     2.0\n",
      "alive-at-1                1.0\n",
      "dtype: object\n"
     ]
    },
    {
     "name": "stderr",
     "output_type": "stream",
     "text": [
      "<ipython-input-83-3a8ce2ca501d>:2: FutureWarning: Dropping of nuisance columns in DataFrame reductions (with 'numeric_only=None') is deprecated; in a future version this will raise TypeError.  Select only valid columns before calling the reduction.\n",
      "  print('mean\\n',echo.mean())\n",
      "<ipython-input-83-3a8ce2ca501d>:3: FutureWarning: Dropping of nuisance columns in DataFrame reductions (with 'numeric_only=None') is deprecated; in a future version this will raise TypeError.  Select only valid columns before calling the reduction.\n",
      "  print('Median\\n',echo.median())\n",
      "<ipython-input-83-3a8ce2ca501d>:4: FutureWarning: Dropping of nuisance columns in DataFrame reductions (with 'numeric_only=None') is deprecated; in a future version this will raise TypeError.  Select only valid columns before calling the reduction.\n",
      "  print('Standard Dev\\n',echo.std())\n",
      "<ipython-input-83-3a8ce2ca501d>:5: FutureWarning: Dropping of nuisance columns in DataFrame reductions (with 'numeric_only=None') is deprecated; in a future version this will raise TypeError.  Select only valid columns before calling the reduction.\n",
      "  print('Variance\\n',echo.var())\n"
     ]
    }
   ],
   "source": [
    "#descriptive statistics of every column in the dataset- sum, mean, median, std, var, min, max\n",
    "print('mean\\n',echo.mean())\n",
    "print('Median\\n',echo.median())\n",
    "print('Standard Dev\\n',echo.std())\n",
    "print('Variance\\n',echo.var())\n",
    "print('Min\\n',echo.min())\n",
    "print('Max\\n',echo.max())"
   ]
  }
 ],
 "metadata": {
  "kernelspec": {
   "display_name": "Python 3.8.8 ('base')",
   "language": "python",
   "name": "python3"
  },
  "language_info": {
   "codemirror_mode": {
    "name": "ipython",
    "version": 3
   },
   "file_extension": ".py",
   "mimetype": "text/x-python",
   "name": "python",
   "nbconvert_exporter": "python",
   "pygments_lexer": "ipython3",
   "version": "3.8.8"
  },
  "orig_nbformat": 4,
  "vscode": {
   "interpreter": {
    "hash": "d51d3ce48f90d5305c0f16cfa62fa20579b52a7f1f84261e6e33eacb0e4a52e6"
   }
  }
 },
 "nbformat": 4,
 "nbformat_minor": 2
}
