{
 "cells": [
  {
   "cell_type": "code",
   "execution_count": 3,
   "metadata": {},
   "outputs": [],
   "source": [
    "#Bailey Sanden HI 2454 sec1015\n",
    "def read_line(line):\n",
    "    sex = line[68]\n",
    "\n",
    "    age_years = None\n",
    "    if line[69] == '1':\n",
    "        # years -> years\n",
    "        age_years = int(line[70:74])\n",
    "    elif line[69] == '2':\n",
    "        # months -> years\n",
    "        age_years = int(line[70:74]) / 12\n",
    "    elif line[69] == '4':\n",
    "        # days -> years\n",
    "        age_years = int(line[70:74]) / 365\n",
    "    \n",
    "    elif line[69] == '5':\n",
    "        # hours -> years\n",
    "        age_years = int(line[70:74]) / 24 / 365\n",
    "    \n",
    "    elif line[69] == '6':\n",
    "        # minutes -> years\n",
    "        age_years = int(line[70:74]) / 60 / 24 / 365\n",
    "\n",
    "    education_1989 = None\n",
    "    education_2003 = None\n",
    "    no_education_available = False\n",
    "    if line[63] == '0':\n",
    "        education_1989 = int(line[60:62])\n",
    "    elif line[63] == '1':\n",
    "        education_2003 = int(line[62])\n",
    "    else:\n",
    "        no_education_available = True\n",
    "    married = line[83]\n",
    "    icd_code = line[145:149].strip()\n",
    "    return {\n",
    "        'sex': sex, \n",
    "        'age_years': age_years,   \n",
    "        'education_1989': education_1989, \n",
    "        'education_2003': education_2003, \n",
    "        'no_education_available': no_education_available, \n",
    "        'married': married, \n",
    "        'icd_code': icd_code\n",
    "    }\n",
    "\n",
    "    "
   ]
  },
  {
   "cell_type": "code",
   "execution_count": 4,
   "metadata": {},
   "outputs": [
    {
     "name": "stdout",
     "output_type": "stream",
     "text": [
      "        sex  age_years  education_1989  education_2003  \\\n",
      "0         M       71.0             NaN             4.0   \n",
      "1         M       74.0             NaN             1.0   \n",
      "2         M       59.0             NaN             4.0   \n",
      "3         M       90.0             NaN             1.0   \n",
      "4         M       66.0             NaN             5.0   \n",
      "...      ..        ...             ...             ...   \n",
      "2820029   F       85.0             NaN             3.0   \n",
      "2820030   F       24.0             NaN             4.0   \n",
      "2820031   F       83.0             NaN             1.0   \n",
      "2820032   M       65.0             NaN             2.0   \n",
      "2820033   M       60.0             NaN             9.0   \n",
      "\n",
      "         no_education_available married icd_code  \n",
      "0                         False       M      G20  \n",
      "1                         False       D     M726  \n",
      "2                         False       M     C159  \n",
      "3                         False       M      C61  \n",
      "4                         False       M     J449  \n",
      "...                         ...     ...      ...  \n",
      "2820029                   False       W      I38  \n",
      "2820030                   False       S     E668  \n",
      "2820031                   False       W     I250  \n",
      "2820032                   False       S     C259  \n",
      "2820033                   False       U     I119  \n",
      "\n",
      "[2820034 rows x 7 columns]\n"
     ]
    }
   ],
   "source": [
    "import pandas as pd\n",
    "\n",
    "with open('VS17MORT.DUSMCPUB') as input_file:\n",
    "   lines = input_file.readlines()\n",
    "   newLines = []\n",
    "   for line in lines:\n",
    "      newLines.append(read_line(line))\n",
    "\n",
    "df = pd.DataFrame(newLines, columns = newLines[0].keys())\n",
    "\n",
    "print(df)"
   ]
  },
  {
   "cell_type": "code",
   "execution_count": 5,
   "metadata": {},
   "outputs": [
    {
     "name": "stdout",
     "output_type": "stream",
     "text": [
      "Male group count: 1443614\n",
      "Female group count: 1376420\n",
      "721807.0 to 688210.0 ratio male to females\n"
     ]
    }
   ],
   "source": [
    "import math\n",
    "# male to female ratio\n",
    "male_group_count= df[(df.sex == 'M')].count().sex \n",
    "print('Male group count: {}'.format(male_group_count))\n",
    "\n",
    "female_group_count= df[(df.sex == 'F')].count().sex \n",
    "print('Female group count: {}'.format(female_group_count))\n",
    "\n",
    "div = math.gcd(male_group_count, female_group_count)\n",
    "print('{} to {} ratio male to females'.format(male_group_count/div, female_group_count/div))"
   ]
  },
  {
   "cell_type": "code",
   "execution_count": 6,
   "metadata": {},
   "outputs": [
    {
     "name": "stdout",
     "output_type": "stream",
     "text": [
      "age group 0: 22413\n",
      "age group 1-10: 6790\n",
      "age group 11-20: 17246\n",
      "age group 21-30: 51995\n",
      "age group 31-40: 71382\n",
      "age group 41-50: 117679\n",
      "age group 51-60: 290322\n",
      "age group 61-70: 480512\n",
      "age group 71-80: 598206\n",
      "age group 81-90: 748063\n",
      "age group 91-100: 396007\n",
      "age group > 100: 19107\n"
     ]
    }
   ],
   "source": [
    "# age group number\n",
    "age_group_0 = df[(df.age_years < 1)].count().age_years\n",
    "print('age group 0: {}'.format(age_group_0))\n",
    "age_group_1_10 = df[(df.age_years >= 1) & (df.age_years < 11)].count().age_years\n",
    "print('age group 1-10: {}'.format(age_group_1_10))\n",
    "age_group_11_20 = df[(df.age_years >= 11) & (df.age_years < 21)].count().age_years\n",
    "print('age group 11-20: {}'.format(age_group_11_20))\n",
    "age_group_21_30 = df[(df.age_years >= 21) & (df.age_years < 31)].count().age_years\n",
    "print('age group 21-30: {}'.format(age_group_21_30))\n",
    "age_group_31_40 = df[(df.age_years >= 31) & (df.age_years < 41)].count().age_years\n",
    "print('age group 31-40: {}'.format(age_group_31_40))\n",
    "age_group_41_50 = df[(df.age_years >= 41) & (df.age_years < 51)].count().age_years\n",
    "print('age group 41-50: {}'.format(age_group_41_50))\n",
    "age_group_51_60 = df[(df.age_years >= 51) & (df.age_years < 61)].count().age_years\n",
    "print('age group 51-60: {}'.format(age_group_51_60))\n",
    "age_group_61_70 = df[(df.age_years >= 61) & (df.age_years < 71)].count().age_years\n",
    "print('age group 61-70: {}'.format(age_group_61_70))\n",
    "age_group_71_80 = df[(df.age_years >= 71) & (df.age_years < 81)].count().age_years\n",
    "print('age group 71-80: {}'.format(age_group_71_80))\n",
    "age_group_81_90 = df[(df.age_years >= 81) & (df.age_years < 91)].count().age_years\n",
    "print('age group 81-90: {}'.format(age_group_81_90))\n",
    "age_group_91_100 = df[(df.age_years >= 91) & (df.age_years < 101)].count().age_years\n",
    "print('age group 91-100: {}'.format(age_group_91_100))\n",
    "age_group_100 = df[(df.age_years > 100)].count().age_years\n",
    "print('age group > 100: {}'.format(age_group_100))"
   ]
  },
  {
   "cell_type": "code",
   "execution_count": 7,
   "metadata": {},
   "outputs": [
    {
     "name": "stdout",
     "output_type": "stream",
     "text": [
      "No formal education group count 1989: 151\n",
      "Years of elementary school group count 1989: 1853\n",
      "1 year of High School group count 1989: 553\n",
      "2 years of High School group count 1989: 832\n",
      "3 years of High School group count 1989: 658\n",
      "4 years of High School group count 1989: 7482\n",
      "One year of College group count 1989: 518\n",
      "Two years of College group count 1989: 1126\n",
      "Three years of College group count 1989: 152\n",
      "Four years of College group count 1989: 870\n",
      "Five years of College or more group count 1989: 557\n",
      "Not Stated group count 1989: 202\n"
     ]
    }
   ],
   "source": [
    "#Number of people in each edcuation level\n",
    "#1989\n",
    "no_formal_group_count= df[(df.education_1989 == 0)]\n",
    "print('No formal education group count 1989: {}'.format(no_formal_group_count.count().education_1989 ))\n",
    "\n",
    "yrs_ele_group_count= df[(df.education_1989 <=8)& (df.education_1989 >=1 )]\n",
    "print('Years of elementary school group count 1989: {}'.format(yrs_ele_group_count.count().education_1989 ))\n",
    "\n",
    "oneyr_hs_group_count= df[(df.education_1989 == 9)]\n",
    "print('1 year of High School group count 1989: {}'.format(oneyr_hs_group_count.count().education_1989 ))\n",
    "\n",
    "twoyr_hs_group_count= df[(df.education_1989 == 10)]\n",
    "print('2 years of High School group count 1989: {}'.format(twoyr_hs_group_count.count().education_1989 ))\n",
    "\n",
    "threeyr_hs_group_count= df[(df.education_1989 == 11)]\n",
    "print('3 years of High School group count 1989: {}'.format(threeyr_hs_group_count.count().education_1989 ))\n",
    "\n",
    "fouryr_hs_group_count= df[(df.education_1989 == 12)]\n",
    "print('4 years of High School group count 1989: {}'.format(fouryr_hs_group_count.count().education_1989 ))\n",
    "\n",
    "oneyr_college_group_count= df[(df.education_1989 == 13)]\n",
    "print('One year of College group count 1989: {}'.format(oneyr_college_group_count.count().education_1989 ))\n",
    "\n",
    "twoyr_college_group_count= df[(df.education_1989 == 14)]\n",
    "print('Two years of College group count 1989: {}'.format(twoyr_college_group_count.count().education_1989 ))\n",
    "\n",
    "threeyr_college_group_count= df[(df.education_1989 == 15)]\n",
    "print('Three years of College group count 1989: {}'.format(threeyr_college_group_count.count().education_1989 ))\n",
    "\n",
    "fouryr_college_group_count= df[(df.education_1989 == 16)]\n",
    "print('Four years of College group count 1989: {}'.format(fouryr_college_group_count.count().education_1989 ))\n",
    "\n",
    "fiveyr_college_group_count= df[(df.education_1989 == 17)]\n",
    "print('Five years of College or more group count 1989: {}'.format(fiveyr_college_group_count.count().education_1989 ))\n",
    "\n",
    "not_stated= df[(df.education_1989 == 99)]\n",
    "print('Not Stated group count 1989: {}'.format(not_stated.count().education_1989 ))\n",
    "\n"
   ]
  },
  {
   "cell_type": "code",
   "execution_count": 8,
   "metadata": {},
   "outputs": [
    {
     "name": "stdout",
     "output_type": "stream",
     "text": [
      "8th Grade or less group count of 2003: 286096\n",
      "9-12 grade, no diploma group count of 2003: 292690\n",
      "High School Grad or GED group count of 2003: 1185798\n",
      "Some College but no degree group count of 2003: 349692\n",
      "Associate Degree group count of 2003: 175036\n",
      "Bachelors Degree group count of 2003: 294482\n",
      "Masters Degree group count of 2003: 120442\n",
      "Doctorate or professional degree group count of 2003: 50635\n",
      "Unknown group count of 2003: 50209\n"
     ]
    }
   ],
   "source": [
    "#Number of people in each edcuation level\n",
    "#2003\n",
    "eight_or_less= df[(df.education_2003 == 1)]\n",
    "print('8th Grade or less group count of 2003: {}'.format(eight_or_less.count().education_2003))\n",
    "\n",
    "nine_tweleve_no_dip= df[(df.education_2003 == 2)]\n",
    "print('9-12 grade, no diploma group count of 2003: {}'.format(nine_tweleve_no_dip.count().education_2003))\n",
    "\n",
    "hs_grad_ged= df[(df.education_2003 == 3)]\n",
    "print('High School Grad or GED group count of 2003: {}'.format(hs_grad_ged.count().education_2003))\n",
    "\n",
    "some_college= df[(df.education_2003 == 4)]\n",
    "print('Some College but no degree group count of 2003: {}'.format(some_college.count().education_2003))\n",
    "\n",
    "associate_degree= df[(df.education_2003 == 5)]\n",
    "print('Associate Degree group count of 2003: {}'.format(associate_degree.count().education_2003))\n",
    "\n",
    "bach_degree= df[(df.education_2003 == 6)]\n",
    "print('Bachelors Degree group count of 2003: {}'.format(bach_degree.count().education_2003))\n",
    "\n",
    "master_degree= df[(df.education_2003 == 7)]\n",
    "print('Masters Degree group count of 2003: {}'.format(master_degree.count().education_2003))\n",
    "\n",
    "doc_degree= df[(df.education_2003 == 8)]\n",
    "print('Doctorate or professional degree group count of 2003: {}'.format(doc_degree.count().education_2003))\n",
    "\n",
    "unknown= df[(df.education_2003 == 9)]\n",
    "print('Unknown group count of 2003: {}'.format(unknown.count().education_2003))\n",
    "\n"
   ]
  },
  {
   "cell_type": "code",
   "execution_count": 9,
   "metadata": {},
   "outputs": [
    {
     "name": "stdout",
     "output_type": "stream",
     "text": [
      "Single, Never Married group count: 386358\n",
      "Married group count: 1029187\n",
      "Widowed group count: 928550\n",
      "Divorced group count: 454024\n",
      "Marital Status Unknown group count: 21915\n"
     ]
    }
   ],
   "source": [
    "#Number of people in each marital status\n",
    "s_group_count= df[(df.married == 'S')]\n",
    "print('Single, Never Married group count: {}'.format(s_group_count.count().married ))\n",
    "\n",
    "m_group_count= df[(df.married == 'M')]\n",
    "print('Married group count: {}'.format(m_group_count.count().married ))\n",
    "\n",
    "w_group_count= df[(df.married == 'W')]\n",
    "print('Widowed group count: {}'.format(w_group_count.count().married ))\n",
    "\n",
    "d_group_count= df[(df.married == 'D')]\n",
    "print('Divorced group count: {}'.format(d_group_count.count().married ))\n",
    "\n",
    "u_group_count= df[(df.married == 'U')]\n",
    "print('Marital Status Unknown group count: {}'.format(u_group_count.count().married ))\n"
   ]
  },
  {
   "cell_type": "code",
   "execution_count": 10,
   "metadata": {},
   "outputs": [
    {
     "name": "stdout",
     "output_type": "stream",
     "text": [
      "Code:  I251 \tCause of death:  Atherosclerotic heart disease\n",
      "Code:  C349 \tCause of death:  \"Malignant neoplasm of bronchus or lung, unspecified\"\n",
      "Code:  J449 \tCause of death:  \"Chronic obstructive pulmonary disease, unspecified\"\n",
      "Code:  G309 \tCause of death:  \"Alzheimer's disease, unspecified\"\n",
      "Code:  I219 \tCause of death:  \"Acute myocardial infarction, unspecified\"\n",
      "Code:  F03 \tCause of death:  Unspecified dementia\n",
      "Code:  I500 \tCause of death:  Congestive heart failure\n",
      "Code:  I250 \tCause of death:  \"Atherosclerotic cardiovascular disease, so described\"\n",
      "Code:  I64 \tCause of death:  \"Stroke, not specified as hemorrhage or infarction\"\n",
      "Code:  C259 \tCause of death:  \"Malignant neoplasm of pancreas, unspecified\"\n"
     ]
    }
   ],
   "source": [
    "#get top 10 most frequent ICD10 codes \n",
    "n=10 \n",
    "values = df['icd_code'].value_counts()[:n]\n",
    "list_of_values = values.index.to_list()\n",
    "\n",
    "with open('allvalid2009(detailed titles headings).txt') as input_file:\n",
    "   lines = input_file.readlines()\n",
    "   icd_codes_map = {}\n",
    "   for idx, line in enumerate(lines):\n",
    "        if idx >= 7:\n",
    "            if len(line.strip().split('\\t')) > 1:\n",
    "                code = line.strip().split('\\t')[0].replace('.', '')\n",
    "                title = line.strip().split('\\t')[1]\n",
    "                icd_codes_map[code] = title\n",
    "\n",
    "for code in list_of_values:\n",
    "    print('Code: ', code, '\\tCause of death: ', icd_codes_map[code])\n"
   ]
  },
  {
   "cell_type": "code",
   "execution_count": 21,
   "metadata": {},
   "outputs": [
    {
     "name": "stdout",
     "output_type": "stream",
     "text": [
      "eight grade or less mean death age:  72.06825570378233\n",
      "9th-12th, no dipoma mean death age:  70.55598756363388\n",
      "High School Grad, GED mean death age:  73.85561150527035\n",
      "Some College but no degree mean death age:  71.29540079670338\n",
      "Associate degree mean death age:  71.86190840741334\n",
      "Bachelors degree mean death age:  75.25035316490084\n",
      "Masters degree mean death age:  76.4588674858851\n",
      "doc degree mean death age:  78.6562456798657\n",
      "Unknown mean death age:  67.57072118314292\n",
      "No formal education mean death age:  20.397102800205634\n",
      "Years of elementary school mean death age:  79.60226659471128\n",
      "1 year of High School  mean death age:  71.01989150090417\n",
      "2 years of High School  mean death age:  69.39663461538461\n",
      "3 years of High School  mean death age:  69.35866261398176\n",
      "4 years of High School  mean death age:  71.5308740978348\n",
      "One year of College mean death age:  67.96138996138995\n",
      "Two years of College mean death age:  69.82060390763766\n",
      "Three years of College mean death age:  69.23684210526316\n",
      "Four years of College mean death age:  72.36436781609196\n",
      "Five years of College or more mean death age:  74.1903052064632\n",
      "Not stated mean death age:  74.73762376237623\n"
     ]
    }
   ],
   "source": [
    "# education vs death age relationship\n",
    "# 2003\n",
    "print('eight grade or less mean death age: ', eight_or_less.age_years.mean())\n",
    "\n",
    "print('9th-12th, no dipoma mean death age: ', nine_tweleve_no_dip.age_years.mean())\n",
    "\n",
    "print('High School Grad, GED mean death age: ', hs_grad_ged.age_years.mean())\n",
    "\n",
    "print('Some College but no degree mean death age: ', some_college.age_years.mean())\n",
    "\n",
    "print('Associate degree mean death age: ', associate_degree.age_years.mean())\n",
    "\n",
    "print('Bachelors degree mean death age: ', bach_degree.age_years.mean())\n",
    "\n",
    "print('Masters degree mean death age: ', master_degree.age_years.mean())\n",
    "\n",
    "print('doc degree mean death age: ', doc_degree.age_years.mean())\n",
    "\n",
    "print('Unknown mean death age: ', unknown.age_years.mean())\n",
    "\n",
    "#1989\n",
    "print('No formal education mean death age: ', no_formal_group_count.age_years.mean())\n",
    "\n",
    "print('Years of elementary school mean death age: ', yrs_ele_group_count.age_years.mean())\n",
    "\n",
    "print('1 year of High School  mean death age: ', oneyr_hs_group_count.age_years.mean())\n",
    "\n",
    "print('2 years of High School  mean death age: ', twoyr_hs_group_count.age_years.mean())\n",
    "\n",
    "print('3 years of High School  mean death age: ', threeyr_hs_group_count.age_years.mean())\n",
    "\n",
    "print('4 years of High School  mean death age: ', fouryr_hs_group_count.age_years.mean())\n",
    "\n",
    "print('One year of College mean death age: ', oneyr_college_group_count.age_years.mean())\n",
    "\n",
    "print('Two years of College mean death age: ', twoyr_college_group_count.age_years.mean())\n",
    "\n",
    "print('Three years of College mean death age: ', threeyr_college_group_count.age_years.mean())\n",
    "\n",
    "print('Four years of College mean death age: ', fouryr_college_group_count.age_years.mean())\n",
    "\n",
    "print('Five years of College or more mean death age: ', fiveyr_college_group_count.age_years.mean())\n",
    "\n",
    "print('Not stated mean death age: ', not_stated.age_years.mean())\n"
   ]
  },
  {
   "cell_type": "code",
   "execution_count": 71,
   "metadata": {},
   "outputs": [
    {
     "data": {
      "image/png": "[encoded data removed]",
      "text/plain": [
       "<Figure size 792x648 with 1 Axes>"
      ]
     },
     "metadata": {
      "needs_background": "light"
     },
     "output_type": "display_data"
    }
   ],
   "source": [
    "# education vs death age relationship visual\n",
    "# 2003\n",
    "import numpy as np\n",
    "import seaborn as sns\n",
    "import matplotlib.pyplot as plt\n",
    "plt.figure(figsize= (11,9))\n",
    "chart= sns.barplot(data=df, x=[' < 8th grade', '9th-12th', 'HS Grad', 'Some College' , 'Associates ', 'Bachelors', 'Masters', 'Doc', 'Unknown'], y=[eight_or_less.age_years.mean(), nine_tweleve_no_dip.age_years.mean(), hs_grad_ged.age_years.mean(), some_college.age_years.mean(), associate_degree.age_years.mean(), bach_degree.age_years.mean(), master_degree.age_years.mean(), doc_degree.age_years.mean(), unknown.age_years.mean()],color=\"Blue\").set(title='Mean death age of 2003 Education groups')\n",
    "\n",
    "#Although it is not a huge difference you can see the increase in age lived to as the education level increases \n"
   ]
  },
  {
   "cell_type": "code",
   "execution_count": 74,
   "metadata": {},
   "outputs": [
    {
     "data": {
      "image/png": "[encoded data removed]",
      "text/plain": [
       "<Figure size 1080x864 with 1 Axes>"
      ]
     },
     "metadata": {
      "needs_background": "light"
     },
     "output_type": "display_data"
    }
   ],
   "source": [
    "# education vs death age relationship visual\n",
    "# 1989\n",
    "plt.rcParams[\"figure.figsize\"]=(15,12)\n",
    "bchart= sns.barplot(data=df,x =['No formal','Yrs elementary', '1 yr HS', '2 yrs HS' , '3 yrs HS', '4 yrs HS', '1 yr College', '2 yrs college', '3 yr college','4 yr college', '5 yr+ College', 'Not Stated'], y=[no_formal_group_count.age_years.mean(), yrs_ele_group_count.age_years.mean(), oneyr_hs_group_count.age_years.mean(), twoyr_hs_group_count.age_years.mean(), threeyr_hs_group_count.age_years.mean(), fouryr_hs_group_count.age_years.mean(), oneyr_college_group_count.age_years.mean(), twoyr_college_group_count.age_years.mean(), threeyr_college_group_count.age_years.mean(),fouryr_college_group_count.age_years.mean(),fiveyr_college_group_count.age_years.mean(), not_stated.age_years.mean()],color=\"Blue\").set(title='Mean death age of 1989 Education groups')\n",
    "plt.show()\n",
    "\n",
    "#This is showing those with no formal education have a younger age to pass away at for the mean. Past that the disrutbtion of death mean and education is quite equal other than yrs elemenary. This does not correlate with the likely belief that those with more education would live longer.\n",
    "\n"
   ]
  },
  {
   "cell_type": "code",
   "execution_count": 12,
   "metadata": {},
   "outputs": [
    {
     "name": "stdout",
     "output_type": "stream",
     "text": [
      "Single mean death age:  50.92319152881642\n",
      "Married mean death age:  72.37796813391606\n",
      "Widowed mean death age:  85.43815815263864\n",
      "Divorced mean death age:  68.74993502460255\n",
      "Unknown mean death age:  66.62631165349235\n"
     ]
    }
   ],
   "source": [
    "# marital status vs death age relationship\n",
    "print('Single mean death age: ', s_group_count.age_years.mean())\n",
    "print('Married mean death age: ', m_group_count.age_years.mean())\n",
    "print('Widowed mean death age: ', w_group_count.age_years.mean())\n",
    "print('Divorced mean death age: ', d_group_count.age_years.mean())\n",
    "print('Unknown mean death age: ', u_group_count.age_years.mean())"
   ]
  },
  {
   "cell_type": "code",
   "execution_count": 19,
   "metadata": {},
   "outputs": [
    {
     "data": {
      "text/plain": [
       "[Text(0.5, 1.0, 'Mean death age of married groups')]"
      ]
     },
     "execution_count": 19,
     "metadata": {},
     "output_type": "execute_result"
    },
    {
     "data": {
      "image/png": "[encoded data removed]",
      "text/plain": [
       "<Figure size 432x288 with 1 Axes>"
      ]
     },
     "metadata": {
      "needs_background": "light"
     },
     "output_type": "display_data"
    }
   ],
   "source": [
    "import numpy as np\n",
    "import seaborn as sns\n",
    "sns.barplot(data=df, x=['Single', 'Married', 'Widowed', 'Divorced', 'Unknown'], y=[s_group_count.age_years.mean(), m_group_count.age_years.mean(), w_group_count.age_years.mean(), d_group_count.age_years.mean(), u_group_count.age_years.mean()],color=\"green\").set(title='Mean death age of married groups')\n",
    "\n",
    "#This is showing single indivudals to have the shortest life. The original correlation intended to see was widowed individuals would have had a lower age average to pass away at. "
   ]
  }
 ],
 "metadata": {
  "interpreter": {
   "hash": "ded110dcbd19f24d22b1ac2f982a49be38c7b07aa8d9ff77d3eb1a45c9dd07d6"
  },
  "kernelspec": {
   "display_name": "Python 3.8.8 64-bit ('env': venv)",
   "language": "python",
   "name": "python3"
  },
  "language_info": {
   "codemirror_mode": {
    "name": "ipython",
    "version": 3
   },
   "file_extension": ".py",
   "mimetype": "text/x-python",
   "name": "python",
   "nbconvert_exporter": "python",
   "pygments_lexer": "ipython3",
   "version": "3.8.8"
  },
  "orig_nbformat": 4
 },
 "nbformat": 4,
 "nbformat_minor": 2
}
