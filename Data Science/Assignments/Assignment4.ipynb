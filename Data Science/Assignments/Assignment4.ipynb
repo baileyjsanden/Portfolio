{
 "cells": [
  {
   "cell_type": "code",
   "execution_count": 4,
   "metadata": {},
   "outputs": [
    {
     "name": "stdout",
     "output_type": "stream",
     "text": [
      "1.22.1\n"
     ]
    }
   ],
   "source": [
    "import numpy as np\n",
    "print(np.__version__)"
   ]
  },
  {
   "cell_type": "code",
   "execution_count": 5,
   "metadata": {},
   "outputs": [],
   "source": [
    "#dataloading\n",
    "import pandas as pd\n",
    "  \n",
    "# reading two csv files\n",
    "data1 = pd.read_csv('bmx_j.csv')\n",
    "data2 = pd.read_csv('demo_j.csv')\n",
    "data3 = pd.read_csv('dpq_j.csv')\n",
    "data4 = pd.read_csv('inq_j.csv')\n",
    "data5 = pd.read_csv('mcq_j.csv')\n",
    "data6 = pd.read_csv('pfq_j.csv')\n",
    "  \n",
    "# using merge function by setting how='inner'\n",
    "output1 = pd.merge(data1, data2, \n",
    "                   on='SEQN', \n",
    "                   how='inner')\n",
    "output2 = pd.merge(output1, data3, \n",
    "                   on='SEQN', \n",
    "                   how='inner')\n",
    "output3 = pd.merge(output2, data4, \n",
    "                   on='SEQN', \n",
    "                   how='inner')\n",
    "output4 = pd.merge(output3, data5, \n",
    "                   on='SEQN', \n",
    "                   how='inner')\n",
    "output5 = pd.merge(output4, data6, \n",
    "                   on='SEQN', \n",
    "                   how='inner')\n",
    "  \n",
    "\n",
    "df = pd.DataFrame(output5)\n",
    "df.to_csv('merged_data.csv', index=False)\n",
    "df.to_excel('merged_data.xlsx', index=False)\n"
   ]
  },
  {
   "cell_type": "code",
   "execution_count": 6,
   "metadata": {},
   "outputs": [],
   "source": [
    "#data item selection according to certain conditions\n",
    "import math\n",
    "import pandas as pd\n",
    "\n",
    "datafile = pd.read_excel(\"merged_data.xlsx\")\n",
    "datafile = pd.DataFrame(datafile)\n",
    "\n",
    "# add new data\n",
    "datafile['AGE_GROUP'] = datafile.apply(lambda row: 'Over 60' if row.RIDAGEYR > 60 else ('Between 30-60' if (row.RIDAGEYR >= 30 and row.RIDAGEYR <= 60) else 'Below 30'), axis=1) \n",
    "datafile['DPQ_total'] = datafile.DPQ010 + datafile.DPQ020 + datafile.DPQ030 + datafile.DPQ040 + datafile.DPQ050 + datafile.DPQ060 + datafile.DPQ070 + datafile.DPQ080 + datafile.DPQ090 + datafile.DPQ100\n"
   ]
  },
  {
   "cell_type": "code",
   "execution_count": 7,
   "metadata": {},
   "outputs": [
    {
     "name": "stdout",
     "output_type": "stream",
     "text": [
      "Total participants: 5533\n",
      "Participants 60 and Older: 1882\n"
     ]
    }
   ],
   "source": [
    "#filtering by age to look at those 60 and older \n",
    "print('Total participants: {}'.format(datafile.SEQN.count()))\n",
    "datafile_age = datafile[datafile.RIDAGEYR.gt(60)]\n",
    "print('Participants 60 and Older: {}'.format(datafile_age.SEQN.count()))"
   ]
  },
  {
   "cell_type": "code",
   "execution_count": 8,
   "metadata": {},
   "outputs": [
    {
     "name": "stdout",
     "output_type": "stream",
     "text": [
      "Participants 60 and Older Who Completed the Depression Screener: 1057\n"
     ]
    }
   ],
   "source": [
    "# Filter by those 60 and older who completed the NHANES mental health depression screener \n",
    "datafile_age_mental = datafile_age[(datafile_age.DPQ010.lt(4)) & (datafile_age.DPQ020.lt(4)) & (datafile_age.DPQ030.lt(4))& (datafile_age.DPQ040.lt(4))& (datafile_age.DPQ050.lt(4))& (datafile_age.DPQ060.lt(4))& (datafile_age.DPQ070.lt(4))& (datafile_age.DPQ080.lt(4))& (datafile_age.DPQ090.lt(4))& (datafile_age.DPQ100.lt(4))]\n",
    "datafile_age_mental['DPQ_total'] = datafile_age_mental.DPQ010 + datafile_age_mental.DPQ020 + datafile_age_mental.DPQ030 + datafile_age_mental.DPQ040 + datafile_age_mental.DPQ050 + datafile_age_mental.DPQ060 + datafile_age_mental.DPQ070 + datafile_age_mental.DPQ080 + datafile_age_mental.DPQ090 + datafile_age_mental.DPQ100\n",
    "print('Participants 60 and Older Who Completed the Depression Screener: {}'.format(datafile_age_mental.SEQN.count()))\n"
   ]
  },
  {
   "cell_type": "code",
   "execution_count": 9,
   "metadata": {},
   "outputs": [
    {
     "name": "stdout",
     "output_type": "stream",
     "text": [
      "Participants 60 and Older Who Completed the Depression Screener and are Female: 584\n",
      "Participants 60 and Older Who Completed the Depression Screener and are Male: 473\n"
     ]
    }
   ],
   "source": [
    "#Filter by those 60+ with depression screener completed by Female(2) and Male(1)gender \n",
    "datafile_age_mental_f = datafile_age_mental[datafile_age_mental.RIAGENDR.gt(1)]\n",
    "print('Participants 60 and Older Who Completed the Depression Screener and are Female: {}'.format(datafile_age_mental_f.SEQN.count()))\n",
    "datafile_age_mental_m = datafile_age_mental[datafile_age_mental.RIAGENDR.lt(2)]\n",
    "print('Participants 60 and Older Who Completed the Depression Screener and are Male: {}'.format(datafile_age_mental_m.SEQN.count()))"
   ]
  },
  {
   "cell_type": "code",
   "execution_count": 15,
   "metadata": {},
   "outputs": [
    {
     "name": "stdout",
     "output_type": "stream",
     "text": [
      "Age Groups: \n",
      "Between 30-60    2607\n",
      "Over 60          1882\n",
      "Below 30         1044\n",
      "Name: AGE_GROUP, dtype: int64\n"
     ]
    }
   ],
   "source": [
    "#Filtered for only age and not including depression score \n",
    "datafile['AGE_GROUP'] = datafile.apply(lambda row: 'Over 60' if row.RIDAGEYR > 60 else ('Between 30-60' if (row.RIDAGEYR >= 30 and row.RIDAGEYR <= 60) else 'Below 30'), axis=1) \n",
    "print('Age Groups: \\n{}'.format(datafile.AGE_GROUP.value_counts()))"
   ]
  },
  {
   "cell_type": "code",
   "execution_count": 29,
   "metadata": {},
   "outputs": [
    {
     "name": "stdout",
     "output_type": "stream",
     "text": [
      "4       0.057143\n",
      "5       0.028571\n",
      "6       0.257143\n",
      "7       0.057143\n",
      "8       0.114286\n",
      "          ...   \n",
      "5522    0.428571\n",
      "5523    0.028571\n",
      "5526    0.028571\n",
      "5530    0.114286\n",
      "5532    0.228571\n",
      "Name: DPQ_total, Length: 3362, dtype: float64\n"
     ]
    }
   ],
   "source": [
    "#Data Normailzation and using drop na to handle missing data (1/2)\n",
    "datafile['DPQ_total'] = datafile.DPQ010 + datafile.DPQ020 + datafile.DPQ030 + datafile.DPQ040 + datafile.DPQ050 + datafile.DPQ060 + datafile.DPQ070 + datafile.DPQ080 + datafile.DPQ090 + datafile.DPQ100\n",
    "\n",
    "df_normalized = datafile.copy()\n",
    "  \n",
    "# apply normalization techniques\n",
    "df_normalized['DPQ_total'] = df_normalized['DPQ_total']  / df_normalized['DPQ_total'].abs().max()\n",
    "      \n",
    "# view normalized data\n",
    "print(df_normalized['DPQ_total'].dropna())"
   ]
  },
  {
   "cell_type": "code",
   "execution_count": 33,
   "metadata": {},
   "outputs": [
    {
     "name": "stdout",
     "output_type": "stream",
     "text": [
      "0       0.8250\n",
      "1       0.2250\n",
      "2       0.8250\n",
      "3       0.9375\n",
      "4       0.7000\n",
      "         ...  \n",
      "5528    0.4125\n",
      "5529    0.8750\n",
      "5530    0.5250\n",
      "5531    0.5125\n",
      "5532    0.4750\n",
      "Name: RIDAGEYR, Length: 5533, dtype: float64\n"
     ]
    }
   ],
   "source": [
    "#Do normalized data on some columns (2/2)\n",
    "  \n",
    "# apply normalization techniques\n",
    "df_normalized['RIDAGEYR'] = df_normalized['RIDAGEYR']  / df_normalized['RIDAGEYR'].abs().max()\n",
    "      \n",
    "# view normalized data\n",
    "print(df_normalized['RIDAGEYR'].dropna())"
   ]
  },
  {
   "cell_type": "code",
   "execution_count": 68,
   "metadata": {},
   "outputs": [
    {
     "name": "stdout",
     "output_type": "stream",
     "text": [
      "[66 18 66 ... 42 41 38]\n"
     ]
    }
   ],
   "source": [
    "# replace NaN with 0 for handling missing data\n",
    "datafile_age_not_nan = np.nan_to_num(datafile['RIDAGEYR'], nan=0) \n",
    "print(datafile_age_not_nan)"
   ]
  },
  {
   "cell_type": "code",
   "execution_count": 67,
   "metadata": {},
   "outputs": [
    {
     "name": "stdout",
     "output_type": "stream",
     "text": [
      "The Median Age of All Partipicants 51.0\n",
      "The Mean Age of All Partipicants 49.816555214169526\n",
      "The Standard Deviation Age of All Partipicants 18.647678473261596\n",
      "The Sum Age of All Partipicants 275635\n",
      "The Variance Age of All Partipicants 347.7359124421439\n",
      "The Mininum Age of All Partipicants 18\n",
      "The Max Age of All Partipicants 80\n",
      "The Median Depression Score of All Partipicants 4.0\n",
      "The Mean Depression Score of All Partipicants 5.219489120151372\n",
      "The Standard Deviation Depression Score of All Partipicants 4.729492255558495\n",
      "The Variance Depression Score of All Partipicants 22.368096995387777\n",
      "The Sum Depression Score of All Partipicants 5517.0\n",
      "The Min Depression Score of All Partipicants 1.0\n",
      "The Max Depression Score of All Partipicants 27.0\n"
     ]
    }
   ],
   "source": [
    "#descriptive statistics - sum, mean, median, std, var, min, max\n",
    "\n",
    "#Descriptive statistic of age\n",
    "datafile_med_ridageyr= np.median(datafile['RIDAGEYR'])\n",
    "print('The Median Age of All Partipicants {}'.format(datafile_med_ridageyr))\n",
    "\n",
    "datafile_mean_ridageyr= np.mean(datafile['RIDAGEYR'])\n",
    "print('The Mean Age of All Partipicants {}'.format(datafile_mean_ridageyr))\n",
    "\n",
    "datafile_std_ridageyr= np.std(datafile['RIDAGEYR'])\n",
    "print('The Standard Deviation Age of All Partipicants {}'.format(datafile_std_ridageyr))\n",
    "\n",
    "datafile_sum_ridageyr= np.sum(datafile['RIDAGEYR'])\n",
    "print('The Sum Age of All Partipicants {}'.format(datafile_sum_ridageyr))\n",
    "\n",
    "datafile_var_ridageyr= np.var(datafile['RIDAGEYR'],axis=0)\n",
    "print('The Variance Age of All Partipicants {}'.format(datafile_var_ridageyr))\n",
    "\n",
    "datafile_min_ridageyr= np.min(datafile['RIDAGEYR'])\n",
    "print('The Mininum Age of All Partipicants {}'.format(datafile_min_ridageyr))\n",
    "\n",
    "datafile_max_ridageyr= np.max(datafile['RIDAGEYR'])\n",
    "print('The Max Age of All Partipicants {}'.format(datafile_max_ridageyr))\n",
    "\n",
    "#Descriptive statistic of Depression Score\n",
    "datafile_med_mental= np.median(datafile_age_mental['DPQ_total'])\n",
    "print('The Median Depression Score of All Partipicants {}'.format(datafile_med_mental))\n",
    "\n",
    "datafile_mean_mental= np.mean(datafile_age_mental['DPQ_total'])\n",
    "print('The Mean Depression Score of All Partipicants {}'.format(datafile_mean_mental))\n",
    "\n",
    "datafile_std_mental= np.std(datafile_age_mental['DPQ_total'])\n",
    "print('The Standard Deviation Depression Score of All Partipicants {}'.format(datafile_std_mental))\n",
    "\n",
    "datafile_var_mental= np.var(datafile_age_mental['DPQ_total'], axis=0)\n",
    "print('The Variance Depression Score of All Partipicants {}'.format(datafile_var_mental))\n",
    "\n",
    "datafile_sum_mental= np.sum(datafile_age_mental['DPQ_total'])\n",
    "print('The Sum Depression Score of All Partipicants {}'.format(datafile_sum_mental))\n",
    "\n",
    "datafile_min_mental= np.min(datafile_age_mental['DPQ_total'])\n",
    "print('The Min Depression Score of All Partipicants {}'.format(datafile_min_mental))\n",
    "\n",
    "datafile_max_mental= np.max(datafile_age_mental['DPQ_total'])\n",
    "print('The Max Depression Score of All Partipicants {}'.format(datafile_max_mental))\n",
    "\n",
    "\n",
    "\n",
    "#Descriptive statistic of Gender \n",
    "#datafile_gender_percent= np.percentile(datafile['RIAGENDR'], 50, axis=0)\n",
    "#print('The Percentage of All Partipicants Genders {}'.format(datafile_gender_percent))\n"
   ]
  }
 ],
 "metadata": {
  "interpreter": {
   "hash": "ded110dcbd19f24d22b1ac2f982a49be38c7b07aa8d9ff77d3eb1a45c9dd07d6"
  },
  "kernelspec": {
   "display_name": "Python 3.8.8 64-bit ('env': venv)",
   "language": "python",
   "name": "python3"
  },
  "language_info": {
   "codemirror_mode": {
    "name": "ipython",
    "version": 3
   },
   "file_extension": ".py",
   "mimetype": "text/x-python",
   "name": "python",
   "nbconvert_exporter": "python",
   "pygments_lexer": "ipython3",
   "version": "3.8.8"
  },
  "orig_nbformat": 4
 },
 "nbformat": 4,
 "nbformat_minor": 2
}
