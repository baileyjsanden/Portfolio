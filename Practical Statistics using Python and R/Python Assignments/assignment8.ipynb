{
 "cells": [
  {
   "cell_type": "markdown",
   "metadata": {},
   "source": [
    "Generate a two-column and 21-row file with random values using file operation and the random method"
   ]
  },
  {
   "cell_type": "code",
   "execution_count": 28,
   "metadata": {},
   "outputs": [],
   "source": [
    "import random\n",
    "\n",
    "f = open(\"Random.txt\", \"w\")\n",
    "x = 0\n",
    "while x < 21:\n",
    "    f.write('Name{} {}\\n'.format(x, random.random()))\n",
    "    x = x + 1\n",
    "f.close()"
   ]
  },
  {
   "cell_type": "markdown",
   "metadata": {},
   "source": [
    "Read in the file, output the two columns in ascending order of the random values"
   ]
  },
  {
   "cell_type": "code",
   "execution_count": 29,
   "metadata": {},
   "outputs": [
    {
     "name": "stdout",
     "output_type": "stream",
     "text": [
      "[('Name13', 0.010356941004213693), ('Name6', 0.12749366170022058), ('Name5', 0.16330256627379924), ('Name16', 0.21062397181674497), ('Name11', 0.3128039812211958), ('Name10', 0.35467218079142226), ('Name15', 0.3679906649562026), ('Name14', 0.3784499816536293), ('Name18', 0.4285677652640806), ('Name7', 0.496702422782075), ('Name4', 0.6713476059447838), ('Name19', 0.795399044604277), ('Name1', 0.801857614664183), ('Name17', 0.8028614529484626), ('Name8', 0.806683073592211), ('Name20', 0.8331834834526765), ('Name12', 0.8409344416885497), ('Name9', 0.8513738337651986), ('Name3', 0.8517432032123852), ('Name2', 0.8899896803696096), ('Name0', 0.9772513400329185)]\n"
     ]
    }
   ],
   "source": [
    "import operator\n",
    "\n",
    "# open file and add it to the dictionary\n",
    "my_dictionary = {}\n",
    "f = open(\"Random.txt\", \"r\")\n",
    "for line in f:\n",
    "    row = line.rstrip().split(\" \")\n",
    "    my_dictionary[row[0]] = float(row[1])\n",
    "f.close()\n",
    "\n",
    "# sort the dictionary\n",
    "sorted_dictionary = sorted(my_dictionary.items(), key=operator.itemgetter(1))\n",
    "print(sorted_dictionary)"
   ]
  },
  {
   "cell_type": "markdown",
   "metadata": {},
   "source": [
    "Identify the minimum value, maximum value, median, and the average of these values."
   ]
  },
  {
   "cell_type": "code",
   "execution_count": 31,
   "metadata": {},
   "outputs": [
    {
     "name": "stdout",
     "output_type": "stream",
     "text": [
      "0.010356941004213693\n",
      "0.9772513400329185\n",
      "0.6713476059447838\n",
      "0.5701709005589923\n"
     ]
    }
   ],
   "source": [
    "from statistics import median, mean\n",
    "dict_values = my_dictionary.values()\n",
    "minimum = min(dict_values)\n",
    "print(minimum)\n",
    "maximum = max(dict_values)\n",
    "print(maximum)\n",
    "medianvalue= median(dict_values)\n",
    "print(medianvalue)\n",
    "averagevalue= mean(dict_values)\n",
    "print(averagevalue)"
   ]
  },
  {
   "cell_type": "markdown",
   "metadata": {},
   "source": []
  }
 ],
 "metadata": {
  "interpreter": {
   "hash": "31f2aee4e71d21fbe5cf8b01ff0e069b9275f58929596ceb00d14d90e3e16cd6"
  },
  "kernelspec": {
   "display_name": "Python 3.8.9 64-bit",
   "language": "python",
   "name": "python3"
  },
  "language_info": {
   "codemirror_mode": {
    "name": "ipython",
    "version": 3
   },
   "file_extension": ".py",
   "mimetype": "text/x-python",
   "name": "python",
   "nbconvert_exporter": "python",
   "pygments_lexer": "ipython3",
   "version": "3.8.8"
  },
  "orig_nbformat": 4
 },
 "nbformat": 4,
 "nbformat_minor": 2
}
