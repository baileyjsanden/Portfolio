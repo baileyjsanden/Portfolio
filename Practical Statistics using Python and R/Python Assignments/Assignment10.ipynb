{
 "cells": [
  {
   "cell_type": "code",
   "execution_count": 1,
   "metadata": {},
   "outputs": [
    {
     "ename": "ModuleNotFoundError",
     "evalue": "No module named 'pandas'",
     "output_type": "error",
     "traceback": [
      "\u001b[0;31m---------------------------------------------------------------------------\u001b[0m",
      "\u001b[0;31mModuleNotFoundError\u001b[0m                       Traceback (most recent call last)",
      "\u001b[0;32m/var/folders/51/8f_9yt6d377dpd9ly5nbp2r00000gn/T/ipykernel_96311/2473749053.py\u001b[0m in \u001b[0;36m<module>\u001b[0;34m\u001b[0m\n\u001b[0;32m----> 1\u001b[0;31m \u001b[0;32mimport\u001b[0m \u001b[0mpandas\u001b[0m \u001b[0;32mas\u001b[0m \u001b[0mpd\u001b[0m\u001b[0;34m\u001b[0m\u001b[0;34m\u001b[0m\u001b[0m\n\u001b[0m\u001b[1;32m      2\u001b[0m \u001b[0;34m\u001b[0m\u001b[0m\n\u001b[1;32m      3\u001b[0m \u001b[0;31m# read the file\u001b[0m\u001b[0;34m\u001b[0m\u001b[0;34m\u001b[0m\u001b[0;34m\u001b[0m\u001b[0m\n\u001b[1;32m      4\u001b[0m \u001b[0mdatafile\u001b[0m \u001b[0;34m=\u001b[0m \u001b[0mpd\u001b[0m\u001b[0;34m.\u001b[0m\u001b[0mread_excel\u001b[0m\u001b[0;34m(\u001b[0m\u001b[0;34m\"Grades.xlsx\"\u001b[0m\u001b[0;34m)\u001b[0m \u001b[0;31m#reading in the dataset and selecting the appropriate columns to use for the analysis\u001b[0m\u001b[0;34m\u001b[0m\u001b[0;34m\u001b[0m\u001b[0m\n\u001b[1;32m      5\u001b[0m \u001b[0mdatafile\u001b[0m \u001b[0;34m=\u001b[0m \u001b[0mpd\u001b[0m\u001b[0;34m.\u001b[0m\u001b[0mDataFrame\u001b[0m\u001b[0;34m(\u001b[0m\u001b[0mdatafile\u001b[0m\u001b[0;34m)\u001b[0m\u001b[0;34m\u001b[0m\u001b[0;34m\u001b[0m\u001b[0m\n",
      "\u001b[0;31mModuleNotFoundError\u001b[0m: No module named 'pandas'"
     ]
    }
   ],
   "source": [
    "import pandas as pd\n",
    "\n",
    "# read the file\n",
    "datafile = pd.read_excel(\"Grades.xlsx\") #reading in the dataset and selecting the appropriate columns to use for the analysis\n",
    "datafile = pd.DataFrame(datafile)\n",
    "\n",
    "#1. Run Summary \n",
    "datafile_summary= datafile.describe()\n",
    "print(datafile_summary)\n",
    "\n",
    "#2-5 Mean, Median and Standard Dev. \n",
    "means = datafile.mean()\n",
    "medians = datafile.median()\n",
    "standard_dev_final= datafile.std()['FINAL']\n",
    "print('Midterm mean: {} and median: {} '.format(means['MIDTERM'], medians['MIDTERM']))\n",
    "print('Final mean: {} and median: {} '.format(means['FINAL'], medians['FINAL']))\n",
    "print('Pretest mean: {} and median: {} '.format(means['PRETEST'], medians['PRETEST']))\n",
    "print('Standard Deviation Final: {}'.format(standard_dev_final))\n"
   ]
  },
  {
   "cell_type": "code",
   "execution_count": 25,
   "metadata": {},
   "outputs": [
    {
     "data": {
      "image/png": "[encoded data removed]",
      "text/plain": [
       "<Figure size 432x288 with 1 Axes>"
      ]
     },
     "metadata": {
      "needs_background": "light"
     },
     "output_type": "display_data"
    }
   ],
   "source": [
    "import pandas as pd\n",
    "import matplotlib.pyplot as plt\n",
    "#plot histogram of \"FINAL\" variable \n",
    "\n",
    "pd.Series(datafile['FINAL']).plot.hist(grid=True, bins=20, rwidth=0.9,\n",
    "                   color='#607c8e')\n",
    "plt.title('Histogram of Final Grades')\n",
    "plt.xlabel('Final Grades')\n",
    "plt.ylabel('Count')\n",
    "plt.grid(axis='y', alpha=0.75)\n"
   ]
  },
  {
   "cell_type": "code",
   "execution_count": 64,
   "metadata": {},
   "outputs": [
    {
     "data": {
      "text/plain": [
       "<AxesSubplot:>"
      ]
     },
     "execution_count": 64,
     "metadata": {},
     "output_type": "execute_result"
    },
    {
     "data": {
      "image/png": "[encoded data removed]",
      "text/plain": [
       "<Figure size 432x288 with 1 Axes>"
      ]
     },
     "metadata": {
      "needs_background": "light"
     },
     "output_type": "display_data"
    }
   ],
   "source": [
    "#plot a boxplot of \"FINAL\" grade\n",
    "#Did you see any outliers in the FINAL grade?\n",
    "#The boxplot did not show any outliers \n",
    "\n",
    "datafile.boxplot(column =['FINAL'], grid = False)"
   ]
  },
  {
   "cell_type": "code",
   "execution_count": 60,
   "metadata": {},
   "outputs": [
    {
     "name": "stdout",
     "output_type": "stream",
     "text": [
      "The accuracy of the Logistic Regression is 0.000\n",
      "The accuracy of the linear SVC is 0.000\n"
     ]
    }
   ],
   "source": [
    "import sklearn\n",
    "# 2. Use sklearn package to train and test a machine learning model to predict FINAL grade using PRETEST and MIDTERM in the previous Grades dataset.\n",
    "from sklearn.linear_model import LogisticRegression\n",
    "from sklearn.model_selection import train_test_split\n",
    "from sklearn import metrics\n",
    "train, test = train_test_split(datafile, test_size = 0.2)\n",
    "train\n",
    "\n",
    "X_train = train[['PRETEST','MIDTERM']]\n",
    "y_train = train['FINAL']\n",
    "X_test = test[['PRETEST','MIDTERM']]\n",
    "y_test = test['FINAL']\n",
    "\n",
    "# Logistic regression\n",
    "mod_lr = LogisticRegression(solver = 'newton-cg').fit(X_train, y_train)\n",
    "prediction=mod_lr.predict(X_test)\n",
    "print('The accuracy of the Logistic Regression is',\"{:.3f}\".format(metrics.accuracy_score(prediction,y_test)))\n",
    "\n",
    "# Support Vector Machine \n",
    "from sklearn.svm import SVC\n",
    "linear_svc = SVC(kernel='linear').fit(X_train, y_train)\n",
    "prediction = linear_svc.predict(X_test)\n",
    "print('The accuracy of the linear SVC is',\"{:.3f}\".format(metrics.accuracy_score(prediction,y_test)))"
   ]
  }
 ],
 "metadata": {
  "interpreter": {
   "hash": "31f2aee4e71d21fbe5cf8b01ff0e069b9275f58929596ceb00d14d90e3e16cd6"
  },
  "kernelspec": {
   "display_name": "Python 3.8.9 64-bit",
   "language": "python",
   "name": "python3"
  },
  "language_info": {
   "codemirror_mode": {
    "name": "ipython",
    "version": 3
   },
   "file_extension": ".py",
   "mimetype": "text/x-python",
   "name": "python",
   "nbconvert_exporter": "python",
   "pygments_lexer": "ipython3",
   "version": "3.8.9"
  },
  "orig_nbformat": 4
 },
 "nbformat": 4,
 "nbformat_minor": 2
}
